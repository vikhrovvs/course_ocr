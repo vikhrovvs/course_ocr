{
 "cells": [
  {
   "cell_type": "code",
   "execution_count": 1,
   "id": "8d4fceea",
   "metadata": {},
   "outputs": [],
   "source": [
    "import os\n",
    "from pathlib import Path\n",
    "\n",
    "from matplotlib import pyplot as plt\n",
    "import numpy as np\n",
    "from PIL import Image\n",
    "\n",
    "import pandas as pd\n",
    "import cv2\n",
    "\n",
    "from  torch.utils.data import Dataset, DataLoader\n",
    "\n",
    "from tqdm.notebook import tqdm\n",
    "import torch\n",
    "import torch.nn as nn\n",
    "\n",
    "from torchvision import transforms as tt"
   ]
  },
  {
   "cell_type": "code",
   "execution_count": 2,
   "id": "96104fd8",
   "metadata": {},
   "outputs": [
    {
     "data": {
      "text/plain": [
       "device(type='cuda')"
      ]
     },
     "execution_count": 2,
     "metadata": {},
     "output_type": "execute_result"
    }
   ],
   "source": [
    "'''\n",
    "0 -> 2\n",
    "1 -> 0\n",
    "2 -> 1\n",
    "3 -> 3\n",
    "'''\n",
    "\n",
    "gpu_number = 3\n",
    "# device = torch.device(device=f'cuda:{gpu_number}')\n",
    "device = torch.device('cuda')\n",
    "device"
   ]
  },
  {
   "cell_type": "code",
   "execution_count": 3,
   "id": "27c0768a",
   "metadata": {},
   "outputs": [],
   "source": [
    "path_to_data = \"D:/Desktop/abbyy/data/CourseOCRTask3\" "
   ]
  },
  {
   "cell_type": "code",
   "execution_count": 4,
   "id": "ffd99809",
   "metadata": {},
   "outputs": [],
   "source": [
    "train_path = Path('/') / path_to_data / 'Train'\n",
    "test_path = Path('/') / path_to_data / 'Test'"
   ]
  },
  {
   "cell_type": "code",
   "execution_count": 5,
   "id": "1930a185",
   "metadata": {},
   "outputs": [
    {
     "data": {
      "text/plain": [
       "6579"
      ]
     },
     "execution_count": 5,
     "metadata": {},
     "output_type": "execute_result"
    }
   ],
   "source": [
    "len(os.listdir(train_path / 'Images'))"
   ]
  },
  {
   "cell_type": "code",
   "execution_count": 6,
   "id": "c50d4eda",
   "metadata": {},
   "outputs": [
    {
     "data": {
      "text/plain": [
       "['Images', 'Inverted', 'markup.csv', 'markup_wo_inverted.csv']"
      ]
     },
     "execution_count": 6,
     "metadata": {},
     "output_type": "execute_result"
    }
   ],
   "source": [
    "os.listdir(train_path)"
   ]
  },
  {
   "cell_type": "code",
   "execution_count": 7,
   "id": "8a79b68f",
   "metadata": {},
   "outputs": [],
   "source": [
    "names = ['filename', 'number', 'x1', 'y1', 'x2', 'y2', 'x3', 'y3', 'x4', 'y4', 'code']\n",
    "df = pd.read_csv(train_path / 'markup.csv', encoding='utf-16', header=None, names=names)\n",
    "\n",
    "train_df = df[:5000]\n",
    "val_df = df[5000:].reset_index()"
   ]
  },
  {
   "cell_type": "code",
   "execution_count": 8,
   "id": "95e43063",
   "metadata": {},
   "outputs": [],
   "source": [
    "class hw3dataset(Dataset):\n",
    "    def __init__(self, df, path, device):\n",
    "        self.device = device\n",
    "        self.items = []\n",
    "        self.transform = tt.Compose([\n",
    "            tt.ToTensor(),\n",
    "            tt.Resize((128, 128), tt.InterpolationMode.BICUBIC)\n",
    "        ])\n",
    "        \n",
    "        for idx, row in tqdm(df.iterrows()):\n",
    "            image_path = path / 'Images' / row['filename']\n",
    "            if os.path.exists(image_path):\n",
    "                img = np.array(Image.open(image_path)) / 255.\n",
    "                vertices = np.array([[row['x1'], row['y1']], [row['x2'], row['y2']], [row['x3'], row['y3']], [row['x4'], row['y4']]])\n",
    "                mask = cv2.fillConvexPoly(np.zeros(img.shape[:2]), vertices, (1,))[..., np.newaxis]\n",
    "                img = self.transform(img).type(torch.float)\n",
    "                mask = self.transform(mask).type(torch.float)\n",
    "                self.items.append((img, mask))\n",
    "#             if idx == 50:\n",
    "#                 break\n",
    "            \n",
    "    def __len__(self):\n",
    "        return len(self.items)\n",
    "    \n",
    "    def __getitem__(self, idx):\n",
    "        img, mask = self.items[idx]\n",
    "        return img.to(self.device), mask.to(self.device)\n",
    "#         return torch.tensor(img.transpose(2, 0, 1), dtype=torch.float, device=device),\\\n",
    "#                 torch.tensor(mask, dtype=torch.float, device=device)"
   ]
  },
  {
   "cell_type": "code",
   "execution_count": 9,
   "id": "e6c4b31d",
   "metadata": {},
   "outputs": [
    {
     "data": {
      "application/vnd.jupyter.widget-view+json": {
       "model_id": "a5318fad7b164957b1a18ddebf98c967",
       "version_major": 2,
       "version_minor": 0
      },
      "text/plain": [
       "0it [00:00, ?it/s]"
      ]
     },
     "metadata": {},
     "output_type": "display_data"
    },
    {
     "data": {
      "application/vnd.jupyter.widget-view+json": {
       "model_id": "07a14e8ec51a4e019cfae79ed18fb797",
       "version_major": 2,
       "version_minor": 0
      },
      "text/plain": [
       "0it [00:00, ?it/s]"
      ]
     },
     "metadata": {},
     "output_type": "display_data"
    }
   ],
   "source": [
    "train_data = hw3dataset(train_df, train_path, device)\n",
    "val_data = hw3dataset(val_df, train_path, device)"
   ]
  },
  {
   "cell_type": "code",
   "execution_count": 10,
   "id": "778ddf77",
   "metadata": {},
   "outputs": [],
   "source": [
    "batch_size=1\n",
    "train_dl = DataLoader(train_data, batch_size=batch_size, shuffle=True)\n",
    "val_dl = DataLoader(val_data, batch_size=batch_size, shuffle=True)"
   ]
  },
  {
   "cell_type": "code",
   "execution_count": 11,
   "id": "ee18ba56",
   "metadata": {},
   "outputs": [],
   "source": [
    "# model from hw1\n",
    "\n",
    "class enc_conv_block(nn.Module):\n",
    "    def __init__(self, in_channels, out_channels):\n",
    "        super().__init__()\n",
    "        self.block = nn.Sequential(\n",
    "            nn.Conv2d(in_channels, out_channels, kernel_size=3, padding=1, bias=False),\n",
    "            nn.BatchNorm2d(out_channels),\n",
    "            nn.ReLU(),\n",
    "            \n",
    "            nn.Conv2d(out_channels, out_channels, kernel_size=3, padding=1, bias=False),\n",
    "            nn.BatchNorm2d(out_channels),\n",
    "            nn.ReLU(),\n",
    "        )\n",
    "    \n",
    "    def forward(self, x):\n",
    "        return self.block(x)\n",
    "    \n",
    "class upsample_block(nn.Module):\n",
    "    def __init__(self, in_channels, out_channels):\n",
    "        super().__init__()\n",
    "        self.upsample = nn.Upsample(scale_factor=2)\n",
    "        self.dec_conv = nn.Sequential(\n",
    "            nn.Conv2d(in_channels, out_channels, kernel_size=3, padding=1),\n",
    "            nn.BatchNorm2d(out_channels),\n",
    "            nn.ReLU(),\n",
    "            \n",
    "            nn.Conv2d(out_channels, out_channels, kernel_size=3, padding=1),\n",
    "            nn.BatchNorm2d(out_channels),\n",
    "            nn.ReLU(),\n",
    "        )\n",
    "    \n",
    "    def forward(self, u, e):\n",
    "        u = self.upsample(u)\n",
    "        pad_w = e.shape[2] - u.shape[2]\n",
    "        pad_h = e.shape[3] - u.shape[3]\n",
    "        padding = [pad_h // 2, pad_h - pad_h // 2, pad_w // 2, pad_w - pad_w // 2]\n",
    "        u = nn.functional.pad(u, padding)\n",
    "        return self.dec_conv(torch.cat((e, u), dim=1))\n",
    "    \n",
    "class UNet(nn.Module):\n",
    "    def __init__(self):\n",
    "        super().__init__()\n",
    "        \n",
    "        # encoder\n",
    "        self.enc_conv0 = enc_conv_block(3, 64)\n",
    "        self.pool0 = nn.MaxPool2d(kernel_size=2, stride=2)\n",
    "        self.enc_conv1 = enc_conv_block(64, 128)\n",
    "        self.pool1 = nn.MaxPool2d(kernel_size=2, stride=2)\n",
    "        self.enc_conv2 = enc_conv_block(128, 256)\n",
    "        self.pool2 = nn.MaxPool2d(kernel_size=2, stride=2)\n",
    "        self.enc_conv3 = enc_conv_block(256, 512)\n",
    "        self.pool3 = nn.MaxPool2d(kernel_size=2, stride=2)\n",
    "\n",
    "        # bottleneck\n",
    "        self.bottleneck_conv = enc_conv_block(512, 1024)\n",
    "\n",
    "        # decode\n",
    "        self.up_0 = upsample_block(1024+512, 512)\n",
    "        self.up_1 = upsample_block(512+256, 256)\n",
    "        self.up_2 = upsample_block(256+128, 128)\n",
    "        self.up_3 = upsample_block(128+64, 64)\n",
    "        \n",
    "        self.out = nn.Sequential(\n",
    "            nn.Conv2d(64, 1, kernel_size=3, padding=1),\n",
    "            nn.BatchNorm2d(1),\n",
    "        )\n",
    "\n",
    "    def forward(self, x):\n",
    "        # encoder\n",
    "        e0 = self.enc_conv0(x)\n",
    "        e1 = self.enc_conv1(self.pool0(e0))\n",
    "        e2 = self.enc_conv2(self.pool1(e1))\n",
    "        e3 = self.enc_conv3(self.pool2(e2))\n",
    "\n",
    "        # bottleneck\n",
    "        b = self.bottleneck_conv(self.pool3(e3)) \n",
    "\n",
    "        # decoder\n",
    "        u0 = self.up_0(b, e3)\n",
    "        u1 = self.up_1(u0, e2)\n",
    "        u2 = self.up_2(u1, e1)\n",
    "        u3 = self.up_3(u2, e0)\n",
    "        \n",
    "        out = self.out(u3)\n",
    "        return out\n",
    "unet_model = UNet().to(device)"
   ]
  },
  {
   "cell_type": "code",
   "execution_count": 12,
   "id": "1440af86",
   "metadata": {},
   "outputs": [],
   "source": [
    "from time import time\n",
    "from IPython.display import clear_output"
   ]
  },
  {
   "cell_type": "code",
   "execution_count": 13,
   "id": "c846028f",
   "metadata": {},
   "outputs": [],
   "source": [
    "def train(model, opt, loss_fn, epochs, data_tr, data_val):\n",
    "    X_val, Y_val = next(iter(data_val))\n",
    "    train_loss, val_loss = [], []\n",
    "\n",
    "    for epoch in range(epochs):\n",
    "        tic = time()\n",
    "        print('* Epoch %d/%d' % (epoch+1, epochs))\n",
    "\n",
    "        avg_loss = 0\n",
    "        model.train()\n",
    "        for X_batch, Y_batch in tqdm(data_tr):\n",
    "\n",
    "            opt.zero_grad()\n",
    "            Y_pred = model(X_batch)\n",
    "            Y_pred = torch.sigmoid(Y_pred)\n",
    "            loss = loss_fn(Y_pred, Y_batch)\n",
    "            loss.backward()\n",
    "            opt.step()\n",
    "            avg_loss += loss.item() / len(data_tr)\n",
    "            del X_batch\n",
    "            del Y_batch\n",
    "        toc = time()\n",
    "        print('loss: %f' % avg_loss)\n",
    "        train_loss.append(avg_loss)\n",
    "        \n",
    "        model.eval()\n",
    "        Y_hat = model(X_val.to(device)).detach().cpu()\n",
    "\n",
    "        val_loss_sum = 0\n",
    "        for X_val_batch, Y_val_batch in tqdm(data_val):\n",
    "            with torch.set_grad_enabled(False):\n",
    "                Y_pred_batch = model(X_val_batch)\n",
    "                loss = loss_fn(torch.sigmoid(Y_pred_batch), Y_val_batch)\n",
    "                prediction = torch.sigmoid(Y_pred_batch) > 0.5\n",
    "            val_loss_sum += loss.item()\n",
    "        val_loss.append((val_loss_sum/len(data_val)))\n",
    "\n",
    "        clear_output(wait=True)\n",
    "        plt.figure(figsize = (16, 7))\n",
    "        plt.title('Loss')\n",
    "        plt.plot(train_loss, label='train loss')\n",
    "        plt.plot(val_loss, label='val loss')\n",
    "        plt.legend()\n",
    "        plt.show()\n",
    "\n",
    "        print(len(X_val))\n",
    "        for k in range(1):\n",
    "            plt.subplot(2, 1, k+1)\n",
    "            plt.imshow(np.rollaxis(X_val[k].cpu().numpy(), 0, 3), cmap='gray')\n",
    "            plt.title('Real')\n",
    "            plt.axis('off')\n",
    "\n",
    "            plt.subplot(2, 1, k+2)\n",
    "            plt.imshow(Y_hat[k, 0], cmap='gray')\n",
    "            plt.title('Output')\n",
    "            plt.axis('off')\n",
    "        plt.suptitle('%d / %d - loss: %f' % (epoch+1, epochs, avg_loss))\n",
    "        plt.show()\n",
    "        \n",
    "        if epoch % 5 == 0:\n",
    "            torch.save(model.state_dict(), f'epoch{epoch}.pth')\n",
    "\n",
    "    return train_loss, val_loss"
   ]
  },
  {
   "cell_type": "code",
   "execution_count": 14,
   "id": "a95a00e5",
   "metadata": {},
   "outputs": [
    {
     "name": "stdout",
     "output_type": "stream",
     "text": [
      "1\n"
     ]
    },
    {
     "data": {
      "image/png": "[encoded data removed]",
      "text/plain": [
       "<Figure size 432x288 with 2 Axes>"
      ]
     },
     "metadata": {
      "needs_background": "light"
     },
     "output_type": "display_data"
    }
   ],
   "source": [
    "unet_train_loss, unet_val_loss = train(unet_model, torch.optim.Adam(unet_model.parameters()), nn.BCELoss(), 16, train_dl, val_dl)"
   ]
  },
  {
   "cell_type": "code",
   "execution_count": 151,
   "id": "d7976633",
   "metadata": {},
   "outputs": [],
   "source": [
    "torch.save(unet_model.state_dict(), f'final_model.pth')"
   ]
  },
  {
   "cell_type": "code",
   "execution_count": 15,
   "id": "a73736b3",
   "metadata": {},
   "outputs": [
    {
     "data": {
      "image/png": "[encoded data removed]",
      "text/plain": [
       "<Figure size 1152x504 with 1 Axes>"
      ]
     },
     "metadata": {
      "needs_background": "light"
     },
     "output_type": "display_data"
    }
   ],
   "source": [
    "plt.figure(figsize = (16, 7))\n",
    "plt.title('Loss')\n",
    "plt.plot(unet_train_loss, label='train loss')\n",
    "plt.plot(unet_val_loss, label='val loss')\n",
    "plt.legend()\n",
    "plt.show()"
   ]
  },
  {
   "cell_type": "code",
   "execution_count": 22,
   "id": "5e61919b",
   "metadata": {},
   "outputs": [],
   "source": [
    "for idx, row in train_df.iterrows():\n",
    "    if os.path.exists(train_path / 'Images' / row['filename']):\n",
    "        break"
   ]
  },
  {
   "cell_type": "code",
   "execution_count": 23,
   "id": "d6842875",
   "metadata": {},
   "outputs": [],
   "source": [
    "image_path = train_path / 'Images' / row['filename']"
   ]
  },
  {
   "cell_type": "code",
   "execution_count": 24,
   "id": "b7263a2d",
   "metadata": {},
   "outputs": [],
   "source": [
    "img = np.array(Image.open(image_path)) / 255.\n",
    "vertices = np.array([[row['x1'], row['y1']], [row['x2'], row['y2']], [row['x3'], row['y3']], [row['x4'], row['y4']]])\n",
    "mask = cv2.fillConvexPoly(np.zeros(img.shape[:2]), vertices, (1,))[..., np.newaxis]"
   ]
  },
  {
   "cell_type": "code",
   "execution_count": 26,
   "id": "0188ab2c",
   "metadata": {},
   "outputs": [
    {
     "data": {
      "text/plain": [
       "<matplotlib.image.AxesImage at 0x178a4b54190>"
      ]
     },
     "execution_count": 26,
     "metadata": {},
     "output_type": "execute_result"
    },
    {
     "data": {
      "image/png": "[encoded data removed]",
      "text/plain": [
       "<Figure size 432x288 with 1 Axes>"
      ]
     },
     "metadata": {
      "needs_background": "light"
     },
     "output_type": "display_data"
    }
   ],
   "source": [
    "plt.imshow(img)"
   ]
  },
  {
   "cell_type": "code",
   "execution_count": 29,
   "id": "3af3ea00",
   "metadata": {},
   "outputs": [
    {
     "data": {
      "text/plain": [
       "(1724, 496, 3)"
      ]
     },
     "execution_count": 29,
     "metadata": {},
     "output_type": "execute_result"
    }
   ],
   "source": [
    "shape = img.shape\n",
    "shape"
   ]
  },
  {
   "cell_type": "code",
   "execution_count": 42,
   "id": "814eb335",
   "metadata": {},
   "outputs": [],
   "source": [
    "transform = tt.Compose([\n",
    "            tt.ToTensor(),\n",
    "            tt.Resize((128, 128), tt.InterpolationMode.BICUBIC)\n",
    "        ])"
   ]
  },
  {
   "cell_type": "code",
   "execution_count": 43,
   "id": "e1d0d335",
   "metadata": {},
   "outputs": [],
   "source": [
    "out = unet_model(transform(img).unsqueeze(0).type(torch.float).to(device))"
   ]
  },
  {
   "cell_type": "code",
   "execution_count": 105,
   "id": "f4ed455e",
   "metadata": {},
   "outputs": [
    {
     "data": {
      "text/plain": [
       "torch.Size([1, 1, 128, 128])"
      ]
     },
     "execution_count": 105,
     "metadata": {},
     "output_type": "execute_result"
    }
   ],
   "source": [
    "out.shape"
   ]
  },
  {
   "cell_type": "code",
   "execution_count": 72,
   "id": "723daa6e",
   "metadata": {},
   "outputs": [],
   "source": [
    "mask_np = (torch.sigmoid(out.squeeze()) > 0.5).cpu().detach().numpy()"
   ]
  },
  {
   "cell_type": "code",
   "execution_count": 46,
   "id": "604e8716",
   "metadata": {},
   "outputs": [
    {
     "data": {
      "text/plain": [
       "<matplotlib.image.AxesImage at 0x17890e660d0>"
      ]
     },
     "execution_count": 46,
     "metadata": {},
     "output_type": "execute_result"
    },
    {
     "data": {
      "image/png": "[encoded data removed]",
      "text/plain": [
       "<Figure size 432x288 with 1 Axes>"
      ]
     },
     "metadata": {
      "needs_background": "light"
     },
     "output_type": "display_data"
    }
   ],
   "source": [
    "plt.imshow(mask_np)"
   ]
  },
  {
   "cell_type": "code",
   "execution_count": 57,
   "id": "397f9be9",
   "metadata": {},
   "outputs": [
    {
     "data": {
      "text/plain": [
       "<matplotlib.image.AxesImage at 0x17990a31910>"
      ]
     },
     "execution_count": 57,
     "metadata": {},
     "output_type": "execute_result"
    },
    {
     "data": {
      "image/png": "[encoded data removed]",
      "text/plain": [
       "<Figure size 432x288 with 1 Axes>"
      ]
     },
     "metadata": {
      "needs_background": "light"
     },
     "output_type": "display_data"
    }
   ],
   "source": [
    "mask_resized = tt.Compose([\n",
    "            tt.ToTensor(),\n",
    "            tt.Resize(img.shape[:2], tt.InterpolationMode.BICUBIC)\n",
    "        ])(mask_np)[0]\n",
    "plt.imshow(mask_resized)"
   ]
  },
  {
   "cell_type": "code",
   "execution_count": 59,
   "id": "7558d72a",
   "metadata": {},
   "outputs": [
    {
     "data": {
      "text/plain": [
       "[<matplotlib.lines.Line2D at 0x17990aa2e20>]"
      ]
     },
     "execution_count": 59,
     "metadata": {},
     "output_type": "execute_result"
    },
    {
     "data": {
      "image/png": "[encoded data removed]",
      "text/plain": [
       "<Figure size 432x288 with 1 Axes>"
      ]
     },
     "metadata": {
      "needs_background": "light"
     },
     "output_type": "display_data"
    }
   ],
   "source": [
    "nonzero = mask_resized.nonzero()\n",
    "sums = nonzero.sum(axis=1)\n",
    "top_left = nonzero[sums.argmin()]\n",
    "bottom_right = nonzero[sums.argmax()]\n",
    "diffs = nonzero[:, 0] - nonzero[:, 1]\n",
    "top_right = nonzero[diffs.argmin()]\n",
    "bottom_left = nonzero[diffs.argmax()]\n",
    "\n",
    "plt.imshow(mask_resized)\n",
    "plt.plot(top_left[1], top_left[0], 'r*')\n",
    "plt.plot(bottom_right[1], bottom_right[0], 'r*')\n",
    "\n",
    "plt.plot(top_right[1], top_right[0], 'r*')\n",
    "plt.plot(bottom_left[1], bottom_left[0], 'r*')"
   ]
  },
  {
   "cell_type": "code",
   "execution_count": 134,
   "id": "1d0574d7",
   "metadata": {},
   "outputs": [],
   "source": [
    "def get_vertices(prediction):\n",
    "    mask = torch.sigmoid(prediction.cpu().detach()) > 0.5\n",
    "    nonzero = mask.nonzero()\n",
    "    sums = nonzero.sum(axis=1)\n",
    "    top_left = nonzero[sums.argmin()]\n",
    "    bottom_right = nonzero[sums.argmax()]\n",
    "    diffs = nonzero[:, 0] - nonzero[:, 1]\n",
    "    top_right = nonzero[diffs.argmin()]\n",
    "    bottom_left = nonzero[diffs.argmax()]\n",
    "    return torch.stack([top_left, top_right, bottom_right, bottom_left]).numpy().astype(int)"
   ]
  },
  {
   "cell_type": "code",
   "execution_count": 135,
   "id": "d2f0373d",
   "metadata": {},
   "outputs": [],
   "source": [
    "transform = tt.Compose([\n",
    "            tt.ToTensor(),\n",
    "            tt.Resize((128, 128), tt.InterpolationMode.BICUBIC)\n",
    "        ])"
   ]
  },
  {
   "cell_type": "code",
   "execution_count": 163,
   "id": "a1f828ce",
   "metadata": {},
   "outputs": [
    {
     "data": {
      "text/plain": [
       "<All keys matched successfully>"
      ]
     },
     "execution_count": 163,
     "metadata": {},
     "output_type": "execute_result"
    }
   ],
   "source": [
    "unet_model.load_state_dict(torch.load('epoch10.pth')) # Эпоха с наимешьим val loss"
   ]
  },
  {
   "cell_type": "code",
   "execution_count": 164,
   "id": "cbd3a933",
   "metadata": {},
   "outputs": [
    {
     "data": {
      "application/vnd.jupyter.widget-view+json": {
       "model_id": "a0d3916019df40fdabee9f184527c43b",
       "version_major": 2,
       "version_minor": 0
      },
      "text/plain": [
       "  0%|          | 0/100 [00:00<?, ?it/s]"
      ]
     },
     "metadata": {},
     "output_type": "display_data"
    },
    {
     "data": {
      "text/html": [
       "<div>\n",
       "<style scoped>\n",
       "    .dataframe tbody tr th:only-of-type {\n",
       "        vertical-align: middle;\n",
       "    }\n",
       "\n",
       "    .dataframe tbody tr th {\n",
       "        vertical-align: top;\n",
       "    }\n",
       "\n",
       "    .dataframe thead th {\n",
       "        text-align: right;\n",
       "    }\n",
       "</style>\n",
       "<table border=\"1\" class=\"dataframe\">\n",
       "  <thead>\n",
       "    <tr style=\"text-align: right;\">\n",
       "      <th></th>\n",
       "      <th>0</th>\n",
       "      <th>1</th>\n",
       "      <th>2</th>\n",
       "      <th>3</th>\n",
       "      <th>4</th>\n",
       "      <th>5</th>\n",
       "      <th>6</th>\n",
       "      <th>7</th>\n",
       "      <th>8</th>\n",
       "      <th>9</th>\n",
       "      <th>10</th>\n",
       "    </tr>\n",
       "  </thead>\n",
       "  <tbody>\n",
       "    <tr>\n",
       "      <th>0</th>\n",
       "      <td>00f3d3d8b60ef559304ff51cadaf4fb1.png</td>\n",
       "      <td>0</td>\n",
       "      <td>431</td>\n",
       "      <td>1962</td>\n",
       "      <td>434</td>\n",
       "      <td>650</td>\n",
       "      <td>1261</td>\n",
       "      <td>664</td>\n",
       "      <td>1267</td>\n",
       "      <td>1936</td>\n",
       "      <td>0</td>\n",
       "    </tr>\n",
       "    <tr>\n",
       "      <th>0</th>\n",
       "      <td>021e9179bdd3287d873de5208535b4a7.png</td>\n",
       "      <td>0</td>\n",
       "      <td>732</td>\n",
       "      <td>930</td>\n",
       "      <td>743</td>\n",
       "      <td>324</td>\n",
       "      <td>2182</td>\n",
       "      <td>362</td>\n",
       "      <td>2197</td>\n",
       "      <td>902</td>\n",
       "      <td>0</td>\n",
       "    </tr>\n",
       "    <tr>\n",
       "      <th>0</th>\n",
       "      <td>065c4a67725752b09302b0a6a5ad3971.png</td>\n",
       "      <td>0</td>\n",
       "      <td>962</td>\n",
       "      <td>1075</td>\n",
       "      <td>840</td>\n",
       "      <td>357</td>\n",
       "      <td>2372</td>\n",
       "      <td>130</td>\n",
       "      <td>2514</td>\n",
       "      <td>831</td>\n",
       "      <td>0</td>\n",
       "    </tr>\n",
       "    <tr>\n",
       "      <th>0</th>\n",
       "      <td>099574d0f797fe2519686fd1e724ebf3.png</td>\n",
       "      <td>0</td>\n",
       "      <td>195</td>\n",
       "      <td>343</td>\n",
       "      <td>236</td>\n",
       "      <td>134</td>\n",
       "      <td>714</td>\n",
       "      <td>129</td>\n",
       "      <td>736</td>\n",
       "      <td>324</td>\n",
       "      <td>0</td>\n",
       "    </tr>\n",
       "    <tr>\n",
       "      <th>0</th>\n",
       "      <td>10c9065a00b9bea9b741208b2679cf76.png</td>\n",
       "      <td>0</td>\n",
       "      <td>672</td>\n",
       "      <td>1539</td>\n",
       "      <td>780</td>\n",
       "      <td>573</td>\n",
       "      <td>2271</td>\n",
       "      <td>766</td>\n",
       "      <td>2190</td>\n",
       "      <td>1582</td>\n",
       "      <td>0</td>\n",
       "    </tr>\n",
       "    <tr>\n",
       "      <th>...</th>\n",
       "      <td>...</td>\n",
       "      <td>...</td>\n",
       "      <td>...</td>\n",
       "      <td>...</td>\n",
       "      <td>...</td>\n",
       "      <td>...</td>\n",
       "      <td>...</td>\n",
       "      <td>...</td>\n",
       "      <td>...</td>\n",
       "      <td>...</td>\n",
       "      <td>...</td>\n",
       "    </tr>\n",
       "    <tr>\n",
       "      <th>0</th>\n",
       "      <td>f534d421c7e36d6133a5e9031a7e2dd5.png</td>\n",
       "      <td>0</td>\n",
       "      <td>259</td>\n",
       "      <td>1972</td>\n",
       "      <td>482</td>\n",
       "      <td>97</td>\n",
       "      <td>600</td>\n",
       "      <td>94</td>\n",
       "      <td>647</td>\n",
       "      <td>1975</td>\n",
       "      <td>0</td>\n",
       "    </tr>\n",
       "    <tr>\n",
       "      <th>0</th>\n",
       "      <td>f7c811258e32c7150ff454bf419e8bc7.png</td>\n",
       "      <td>0</td>\n",
       "      <td>82</td>\n",
       "      <td>105</td>\n",
       "      <td>76</td>\n",
       "      <td>48</td>\n",
       "      <td>224</td>\n",
       "      <td>37</td>\n",
       "      <td>223</td>\n",
       "      <td>95</td>\n",
       "      <td>0</td>\n",
       "    </tr>\n",
       "    <tr>\n",
       "      <th>0</th>\n",
       "      <td>f9bf5d96a0cf5d64aac4eb5806554224.png</td>\n",
       "      <td>0</td>\n",
       "      <td>626</td>\n",
       "      <td>1136</td>\n",
       "      <td>682</td>\n",
       "      <td>453</td>\n",
       "      <td>1811</td>\n",
       "      <td>524</td>\n",
       "      <td>1741</td>\n",
       "      <td>1161</td>\n",
       "      <td>0</td>\n",
       "    </tr>\n",
       "    <tr>\n",
       "      <th>0</th>\n",
       "      <td>fedcc45b69bb6c40c4599bbb499ee365.png</td>\n",
       "      <td>0</td>\n",
       "      <td>359</td>\n",
       "      <td>491</td>\n",
       "      <td>363</td>\n",
       "      <td>189</td>\n",
       "      <td>1047</td>\n",
       "      <td>174</td>\n",
       "      <td>1053</td>\n",
       "      <td>506</td>\n",
       "      <td>0</td>\n",
       "    </tr>\n",
       "    <tr>\n",
       "      <th>0</th>\n",
       "      <td>ffe23e3a864dd809237d289e81083a0d.png</td>\n",
       "      <td>0</td>\n",
       "      <td>870</td>\n",
       "      <td>1225</td>\n",
       "      <td>744</td>\n",
       "      <td>509</td>\n",
       "      <td>3209</td>\n",
       "      <td>420</td>\n",
       "      <td>3133</td>\n",
       "      <td>1147</td>\n",
       "      <td>0</td>\n",
       "    </tr>\n",
       "  </tbody>\n",
       "</table>\n",
       "<p>100 rows × 11 columns</p>\n",
       "</div>"
      ],
      "text/plain": [
       "                                      0   1    2     3    4    5     6    7   \\\n",
       "0   00f3d3d8b60ef559304ff51cadaf4fb1.png   0  431  1962  434  650  1261  664   \n",
       "0   021e9179bdd3287d873de5208535b4a7.png   0  732   930  743  324  2182  362   \n",
       "0   065c4a67725752b09302b0a6a5ad3971.png   0  962  1075  840  357  2372  130   \n",
       "0   099574d0f797fe2519686fd1e724ebf3.png   0  195   343  236  134   714  129   \n",
       "0   10c9065a00b9bea9b741208b2679cf76.png   0  672  1539  780  573  2271  766   \n",
       "..                                   ...  ..  ...   ...  ...  ...   ...  ...   \n",
       "0   f534d421c7e36d6133a5e9031a7e2dd5.png   0  259  1972  482   97   600   94   \n",
       "0   f7c811258e32c7150ff454bf419e8bc7.png   0   82   105   76   48   224   37   \n",
       "0   f9bf5d96a0cf5d64aac4eb5806554224.png   0  626  1136  682  453  1811  524   \n",
       "0   fedcc45b69bb6c40c4599bbb499ee365.png   0  359   491  363  189  1047  174   \n",
       "0   ffe23e3a864dd809237d289e81083a0d.png   0  870  1225  744  509  3209  420   \n",
       "\n",
       "      8     9   10  \n",
       "0   1267  1936   0  \n",
       "0   2197   902   0  \n",
       "0   2514   831   0  \n",
       "0    736   324   0  \n",
       "0   2190  1582   0  \n",
       "..   ...   ...  ..  \n",
       "0    647  1975   0  \n",
       "0    223    95   0  \n",
       "0   1741  1161   0  \n",
       "0   1053   506   0  \n",
       "0   3133  1147   0  \n",
       "\n",
       "[100 rows x 11 columns]"
      ]
     },
     "execution_count": 164,
     "metadata": {},
     "output_type": "execute_result"
    }
   ],
   "source": [
    "answer = pd.DataFrame()\n",
    "for image_file in tqdm(os.listdir(test_path / 'Images')):\n",
    "    image = np.array(Image.open(test_path / 'Images' / image_file)) / 255.\n",
    "    out = unet_model(transform(image).unsqueeze(0).type(torch.float).to(device))\n",
    "    out_resized = tt.Compose([\n",
    "            tt.Resize(image.shape[:2], tt.InterpolationMode.BICUBIC)\n",
    "        ])(out).squeeze()\n",
    "    vertices = get_vertices(out_resized)\n",
    "#     for vertex in vertices:\n",
    "#         plt.plot(vertex[1], vertex[0], 'r*')\n",
    "    answer = answer.append([[\n",
    "        image_file,\n",
    "        0,\n",
    "        vertices[3][1], vertices[3][0],\n",
    "        vertices[0][1], vertices[0][0],\n",
    "        vertices[1][1], vertices[1][0],\n",
    "        vertices[2][1], vertices[2][0],\n",
    "        0        \n",
    "    ]])\n",
    "answer"
   ]
  },
  {
   "cell_type": "code",
   "execution_count": 165,
   "id": "bc345f6a",
   "metadata": {},
   "outputs": [],
   "source": [
    "answer.to_csv('answer.csv', header=False, index=False, encoding='utf-16')"
   ]
  },
  {
   "cell_type": "code",
   "execution_count": 166,
   "id": "7d8eeecc",
   "metadata": {},
   "outputs": [
    {
     "data": {
      "text/html": [
       "<div>\n",
       "<style scoped>\n",
       "    .dataframe tbody tr th:only-of-type {\n",
       "        vertical-align: middle;\n",
       "    }\n",
       "\n",
       "    .dataframe tbody tr th {\n",
       "        vertical-align: top;\n",
       "    }\n",
       "\n",
       "    .dataframe thead th {\n",
       "        text-align: right;\n",
       "    }\n",
       "</style>\n",
       "<table border=\"1\" class=\"dataframe\">\n",
       "  <thead>\n",
       "    <tr style=\"text-align: right;\">\n",
       "      <th></th>\n",
       "      <th>0</th>\n",
       "      <th>1</th>\n",
       "      <th>2</th>\n",
       "      <th>3</th>\n",
       "      <th>4</th>\n",
       "      <th>5</th>\n",
       "      <th>6</th>\n",
       "      <th>7</th>\n",
       "      <th>8</th>\n",
       "      <th>9</th>\n",
       "      <th>10</th>\n",
       "    </tr>\n",
       "  </thead>\n",
       "  <tbody>\n",
       "    <tr>\n",
       "      <th>0</th>\n",
       "      <td>00f3d3d8b60ef559304ff51cadaf4fb1.png</td>\n",
       "      <td>0</td>\n",
       "      <td>431</td>\n",
       "      <td>1962</td>\n",
       "      <td>434</td>\n",
       "      <td>650</td>\n",
       "      <td>1261</td>\n",
       "      <td>664</td>\n",
       "      <td>1267</td>\n",
       "      <td>1936</td>\n",
       "      <td>0</td>\n",
       "    </tr>\n",
       "    <tr>\n",
       "      <th>1</th>\n",
       "      <td>021e9179bdd3287d873de5208535b4a7.png</td>\n",
       "      <td>0</td>\n",
       "      <td>732</td>\n",
       "      <td>930</td>\n",
       "      <td>743</td>\n",
       "      <td>324</td>\n",
       "      <td>2182</td>\n",
       "      <td>362</td>\n",
       "      <td>2197</td>\n",
       "      <td>902</td>\n",
       "      <td>0</td>\n",
       "    </tr>\n",
       "    <tr>\n",
       "      <th>2</th>\n",
       "      <td>065c4a67725752b09302b0a6a5ad3971.png</td>\n",
       "      <td>0</td>\n",
       "      <td>962</td>\n",
       "      <td>1075</td>\n",
       "      <td>840</td>\n",
       "      <td>357</td>\n",
       "      <td>2372</td>\n",
       "      <td>130</td>\n",
       "      <td>2514</td>\n",
       "      <td>831</td>\n",
       "      <td>0</td>\n",
       "    </tr>\n",
       "    <tr>\n",
       "      <th>3</th>\n",
       "      <td>099574d0f797fe2519686fd1e724ebf3.png</td>\n",
       "      <td>0</td>\n",
       "      <td>195</td>\n",
       "      <td>343</td>\n",
       "      <td>236</td>\n",
       "      <td>134</td>\n",
       "      <td>714</td>\n",
       "      <td>129</td>\n",
       "      <td>736</td>\n",
       "      <td>324</td>\n",
       "      <td>0</td>\n",
       "    </tr>\n",
       "    <tr>\n",
       "      <th>4</th>\n",
       "      <td>10c9065a00b9bea9b741208b2679cf76.png</td>\n",
       "      <td>0</td>\n",
       "      <td>672</td>\n",
       "      <td>1539</td>\n",
       "      <td>780</td>\n",
       "      <td>573</td>\n",
       "      <td>2271</td>\n",
       "      <td>766</td>\n",
       "      <td>2190</td>\n",
       "      <td>1582</td>\n",
       "      <td>0</td>\n",
       "    </tr>\n",
       "    <tr>\n",
       "      <th>...</th>\n",
       "      <td>...</td>\n",
       "      <td>...</td>\n",
       "      <td>...</td>\n",
       "      <td>...</td>\n",
       "      <td>...</td>\n",
       "      <td>...</td>\n",
       "      <td>...</td>\n",
       "      <td>...</td>\n",
       "      <td>...</td>\n",
       "      <td>...</td>\n",
       "      <td>...</td>\n",
       "    </tr>\n",
       "    <tr>\n",
       "      <th>95</th>\n",
       "      <td>f534d421c7e36d6133a5e9031a7e2dd5.png</td>\n",
       "      <td>0</td>\n",
       "      <td>259</td>\n",
       "      <td>1972</td>\n",
       "      <td>482</td>\n",
       "      <td>97</td>\n",
       "      <td>600</td>\n",
       "      <td>94</td>\n",
       "      <td>647</td>\n",
       "      <td>1975</td>\n",
       "      <td>0</td>\n",
       "    </tr>\n",
       "    <tr>\n",
       "      <th>96</th>\n",
       "      <td>f7c811258e32c7150ff454bf419e8bc7.png</td>\n",
       "      <td>0</td>\n",
       "      <td>82</td>\n",
       "      <td>105</td>\n",
       "      <td>76</td>\n",
       "      <td>48</td>\n",
       "      <td>224</td>\n",
       "      <td>37</td>\n",
       "      <td>223</td>\n",
       "      <td>95</td>\n",
       "      <td>0</td>\n",
       "    </tr>\n",
       "    <tr>\n",
       "      <th>97</th>\n",
       "      <td>f9bf5d96a0cf5d64aac4eb5806554224.png</td>\n",
       "      <td>0</td>\n",
       "      <td>626</td>\n",
       "      <td>1136</td>\n",
       "      <td>682</td>\n",
       "      <td>453</td>\n",
       "      <td>1811</td>\n",
       "      <td>524</td>\n",
       "      <td>1741</td>\n",
       "      <td>1161</td>\n",
       "      <td>0</td>\n",
       "    </tr>\n",
       "    <tr>\n",
       "      <th>98</th>\n",
       "      <td>fedcc45b69bb6c40c4599bbb499ee365.png</td>\n",
       "      <td>0</td>\n",
       "      <td>359</td>\n",
       "      <td>491</td>\n",
       "      <td>363</td>\n",
       "      <td>189</td>\n",
       "      <td>1047</td>\n",
       "      <td>174</td>\n",
       "      <td>1053</td>\n",
       "      <td>506</td>\n",
       "      <td>0</td>\n",
       "    </tr>\n",
       "    <tr>\n",
       "      <th>99</th>\n",
       "      <td>ffe23e3a864dd809237d289e81083a0d.png</td>\n",
       "      <td>0</td>\n",
       "      <td>870</td>\n",
       "      <td>1225</td>\n",
       "      <td>744</td>\n",
       "      <td>509</td>\n",
       "      <td>3209</td>\n",
       "      <td>420</td>\n",
       "      <td>3133</td>\n",
       "      <td>1147</td>\n",
       "      <td>0</td>\n",
       "    </tr>\n",
       "  </tbody>\n",
       "</table>\n",
       "<p>100 rows × 11 columns</p>\n",
       "</div>"
      ],
      "text/plain": [
       "                                      0   1    2     3    4    5     6    7   \\\n",
       "0   00f3d3d8b60ef559304ff51cadaf4fb1.png   0  431  1962  434  650  1261  664   \n",
       "1   021e9179bdd3287d873de5208535b4a7.png   0  732   930  743  324  2182  362   \n",
       "2   065c4a67725752b09302b0a6a5ad3971.png   0  962  1075  840  357  2372  130   \n",
       "3   099574d0f797fe2519686fd1e724ebf3.png   0  195   343  236  134   714  129   \n",
       "4   10c9065a00b9bea9b741208b2679cf76.png   0  672  1539  780  573  2271  766   \n",
       "..                                   ...  ..  ...   ...  ...  ...   ...  ...   \n",
       "95  f534d421c7e36d6133a5e9031a7e2dd5.png   0  259  1972  482   97   600   94   \n",
       "96  f7c811258e32c7150ff454bf419e8bc7.png   0   82   105   76   48   224   37   \n",
       "97  f9bf5d96a0cf5d64aac4eb5806554224.png   0  626  1136  682  453  1811  524   \n",
       "98  fedcc45b69bb6c40c4599bbb499ee365.png   0  359   491  363  189  1047  174   \n",
       "99  ffe23e3a864dd809237d289e81083a0d.png   0  870  1225  744  509  3209  420   \n",
       "\n",
       "      8     9   10  \n",
       "0   1267  1936   0  \n",
       "1   2197   902   0  \n",
       "2   2514   831   0  \n",
       "3    736   324   0  \n",
       "4   2190  1582   0  \n",
       "..   ...   ...  ..  \n",
       "95   647  1975   0  \n",
       "96   223    95   0  \n",
       "97  1741  1161   0  \n",
       "98  1053   506   0  \n",
       "99  3133  1147   0  \n",
       "\n",
       "[100 rows x 11 columns]"
      ]
     },
     "execution_count": 166,
     "metadata": {},
     "output_type": "execute_result"
    }
   ],
   "source": [
    "pd.read_csv('answer.csv', header=None, encoding='utf-16')"
   ]
  },
  {
   "cell_type": "code",
   "execution_count": 167,
   "id": "da84404c",
   "metadata": {},
   "outputs": [],
   "source": [
    "import csv\n",
    "def read_file(path):\n",
    "\tmarkup = {}\n",
    "\twith open(path, 'r', encoding='utf-16') as fd:\n",
    "\t\trd = csv.reader(fd)\n",
    "\t\tfor row in rd:\n",
    "\t\t\tid = row[0]\n",
    "\t\t\tvalue = row[1]\n",
    "\t\t\tpoints = [(int(row[i]), int(row[i + 1])) for i in range(2, 10, 2)]\n",
    "\t\t\tmarkup[id] = [value, points]\n",
    "\treturn markup"
   ]
  },
  {
   "cell_type": "code",
   "execution_count": 168,
   "id": "704c35c8",
   "metadata": {},
   "outputs": [],
   "source": [
    "from shapely.geometry import Polygon"
   ]
  },
  {
   "cell_type": "code",
   "execution_count": 169,
   "id": "8919e97f",
   "metadata": {},
   "outputs": [],
   "source": [
    "def calculate_detection_result(markup, answer):\n",
    "\twell_detected = 0\n",
    "\tIOU_THRESHOLD = 0.5\n",
    "\tfor (k, v) in answer.items():\n",
    "\t\ta = Polygon(v[1])\n",
    "\t\tb = Polygon(markup[k][1])\n",
    "\t\tiou = a.intersection(b).area / a.union(b).area\n",
    "\t\tif iou > IOU_THRESHOLD:\n",
    "\t\t\twell_detected += 1\n",
    "\treturn well_detected / len(markup)"
   ]
  },
  {
   "cell_type": "code",
   "execution_count": 170,
   "id": "07d2a9f1",
   "metadata": {},
   "outputs": [],
   "source": [
    "def calculate_accuracy(markup, answer):\n",
    "\tcounter = 0\n",
    "\tfor (k, v) in answer.items():\n",
    "\t\tmarkup_value = markup[k][0]\n",
    "\t\tif markup_value == v[0]:\n",
    "\t\t\tcounter += 1\n",
    "\treturn counter / len(markup)"
   ]
  },
  {
   "cell_type": "code",
   "execution_count": 171,
   "id": "0d4b433e",
   "metadata": {},
   "outputs": [
    {
     "name": "stdout",
     "output_type": "stream",
     "text": [
      "Checking answer (answer.csv) against markup(markup.csv)\n",
      "recognition_accuracy=0.0\n",
      "detection_result=0.99\n"
     ]
    }
   ],
   "source": [
    "gt_path = os.path.join(\"markup.csv\")\n",
    "answer_path = os.path.join(\"answer.csv\")\n",
    "print(f\"Checking answer ({answer_path}) against markup({gt_path})\")\n",
    "markup = read_file(gt_path)\n",
    "answer = read_file(answer_path)\n",
    "recognition_accuracy = calculate_accuracy(markup, answer)\n",
    "print(f\"recognition_accuracy={recognition_accuracy}\")\n",
    "detection_result = calculate_detection_result(markup, answer)\n",
    "print(f\"detection_result={detection_result}\")"
   ]
  },
  {
   "cell_type": "markdown",
   "id": "5431ead5",
   "metadata": {},
   "source": [
    "Комментарий про решение\n",
    "\n",
    "На студенческом сервере все забито, поэтому обучался на домашнем гпу\n",
    "\n",
    "Использовал достаточно жесткий ресайз до 128х128, иначе не проходил по памяти\n",
    "\n",
    "Для iou 0.5 оно все равно сработало на удивление отлично"
   ]
  },
  {
   "cell_type": "code",
   "execution_count": null,
   "id": "8d560998",
   "metadata": {},
   "outputs": [],
   "source": []
  }
 ],
 "metadata": {
  "kernelspec": {
   "display_name": "Python 3 (ipykernel)",
   "language": "python",
   "name": "python3"
  },
  "language_info": {
   "codemirror_mode": {
    "name": "ipython",
    "version": 3
   },
   "file_extension": ".py",
   "mimetype": "text/x-python",
   "name": "python",
   "nbconvert_exporter": "python",
   "pygments_lexer": "ipython3",
   "version": "3.9.7"
  }
 },
 "nbformat": 4,
 "nbformat_minor": 5
}
