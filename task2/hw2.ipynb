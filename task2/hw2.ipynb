{
 "cells": [
  {
   "cell_type": "code",
   "execution_count": 1,
   "id": "80655780",
   "metadata": {},
   "outputs": [],
   "source": [
    "from data_reader import Vocabulary, HWDBDatasetHelper, LMDBReader\n",
    "\n",
    "# your path to data\n",
    "train_path = r'/DATA/vvikhrov/train.lmdb'\n",
    "test_path = r'/DATA/vvikhrov/test.lmdb'\n",
    "gt_path = '/DATA/vvikhrov/gt.txt'"
   ]
  },
  {
   "cell_type": "markdown",
   "id": "30533b44",
   "metadata": {},
   "source": [
    "# My solution using resnet18 & centerloss\n",
    "\n",
    "resnet18 with first layer changed in order to match greyscale image. I've tried cv2.cvtColor(gray,cv2.COLOR_GRAY2RGB), but this made things only worse. I've also tried some resize methods using torchvision transforms, but without any improvements. So I just used the baseline, but only changed image size to 64x64.\n",
    "\n",
    "CenterLoss source: https://github.com/KaiyangZhou/pytorch-center-loss\n"
   ]
  },
  {
   "cell_type": "code",
   "execution_count": 2,
   "id": "3af767d4",
   "metadata": {},
   "outputs": [],
   "source": [
    "import cv2\n",
    "import numpy as np\n",
    "from tqdm import tqdm\n",
    "from IPython.display import clear_output\n",
    "\n",
    "import torch\n",
    "\n",
    "from torch.utils.data import Dataset, DataLoader\n",
    "from torch import nn\n",
    "\n",
    "from torchvision import models\n",
    "from matplotlib import pyplot as plt"
   ]
  },
  {
   "cell_type": "markdown",
   "id": "b21d0205",
   "metadata": {},
   "source": [
    "### Data tools"
   ]
  },
  {
   "cell_type": "code",
   "execution_count": 3,
   "id": "273a14ff",
   "metadata": {},
   "outputs": [],
   "source": [
    "train_reader = LMDBReader(train_path)\n",
    "train_reader.open()\n",
    "train_helper = HWDBDatasetHelper(train_reader)"
   ]
  },
  {
   "cell_type": "code",
   "execution_count": 4,
   "id": "7d5924c8",
   "metadata": {},
   "outputs": [],
   "source": [
    "train_helper, val_helper = train_helper.train_val_split()"
   ]
  },
  {
   "cell_type": "code",
   "execution_count": 5,
   "id": "0b84fdea",
   "metadata": {},
   "outputs": [
    {
     "data": {
      "text/plain": [
       "(2578433, 644609)"
      ]
     },
     "execution_count": 5,
     "metadata": {},
     "output_type": "execute_result"
    }
   ],
   "source": [
    "train_helper.size(), val_helper.size()"
   ]
  },
  {
   "cell_type": "code",
   "execution_count": 7,
   "id": "f57b20ce",
   "metadata": {},
   "outputs": [],
   "source": [
    "class HWDBDataset(Dataset):\n",
    "    def __init__(self, helper: HWDBDatasetHelper):\n",
    "        self.helper = helper\n",
    "    \n",
    "    def __len__(self):\n",
    "        return self.helper.size()\n",
    "    \n",
    "    def __getitem__(self, idx):\n",
    "        img, label = self.helper.get_item(idx)\n",
    "        return (cv2.resize(img, (64, 64)) - 127.5) / 255., label"
   ]
  },
  {
   "cell_type": "code",
   "execution_count": 8,
   "id": "11c90159",
   "metadata": {},
   "outputs": [],
   "source": [
    "train_dataset = HWDBDataset(train_helper)\n",
    "val_dataset = HWDBDataset(val_helper)"
   ]
  },
  {
   "cell_type": "markdown",
   "id": "5bc1be5c",
   "metadata": {},
   "source": [
    "### Model & training"
   ]
  },
  {
   "cell_type": "code",
   "execution_count": 9,
   "id": "baa424ce",
   "metadata": {},
   "outputs": [],
   "source": [
    "train_loader = DataLoader(train_dataset, batch_size=512, shuffle=True, drop_last=True, num_workers=8)\n",
    "val_loader = DataLoader(val_dataset, batch_size=2048, shuffle=False, num_workers=8)"
   ]
  },
  {
   "cell_type": "code",
   "execution_count": 10,
   "id": "2b703663",
   "metadata": {},
   "outputs": [
    {
     "data": {
      "text/plain": [
       "device(type='cuda', index=1)"
      ]
     },
     "execution_count": 10,
     "metadata": {},
     "output_type": "execute_result"
    }
   ],
   "source": [
    "'''\n",
    "0 -> 2\n",
    "1 -> 0\n",
    "2 -> 1\n",
    "3 -> 3\n",
    "'''\n",
    "\n",
    "gpu_number = 1\n",
    "device = torch.device(device=f'cuda:{gpu_number}')\n",
    "device"
   ]
  },
  {
   "cell_type": "code",
   "execution_count": 11,
   "id": "c890ef95",
   "metadata": {},
   "outputs": [],
   "source": [
    "n_classes = train_helper.vocabulary.num_classes()"
   ]
  },
  {
   "cell_type": "code",
   "execution_count": 12,
   "id": "9aa4f0a6",
   "metadata": {},
   "outputs": [],
   "source": [
    "class CenterLoss(nn.Module):\n",
    "    def __init__(self, num_classes=n_classes, feat_dim=512):\n",
    "        super(CenterLoss, self).__init__()\n",
    "        self.num_classes = num_classes\n",
    "        self.feat_dim = feat_dim\n",
    "\n",
    "        self.centers = nn.Parameter(torch.randn(self.num_classes, self.feat_dim).to(device))\n",
    "\n",
    "    def forward(self, x, labels):\n",
    "        batch_size = x.size(0)\n",
    "        distmat = torch.pow(x, 2).sum(dim=1, keepdim=True).expand(batch_size, self.num_classes) + \\\n",
    "                  torch.pow(self.centers, 2).sum(dim=1, keepdim=True).expand(self.num_classes, batch_size).t()\n",
    "        distmat.addmm_(1, -2, x, self.centers.t())\n",
    "\n",
    "        classes = torch.arange(self.num_classes).long().to(device)\n",
    "        labels = labels.unsqueeze(1).expand(batch_size, self.num_classes)\n",
    "        mask = labels.eq(classes.expand(batch_size, self.num_classes))\n",
    "\n",
    "        dist = distmat * mask.float()\n",
    "        loss = dist.clamp(min=1e-12, max=1e+12).sum() / batch_size\n",
    "\n",
    "        return loss"
   ]
  },
  {
   "cell_type": "code",
   "execution_count": 13,
   "id": "3c1ebcd3",
   "metadata": {},
   "outputs": [],
   "source": [
    "class resnet_center_loss(nn.Module):\n",
    "    def __init__(self, n_classes):\n",
    "        super(resnet_center_loss, self).__init__()\n",
    "        self.net = models.resnet18()\n",
    "        self.net.conv1 = nn.Conv2d(1, 64, kernel_size=(7, 7), stride=(2, 2), padding=(3, 3), bias=False)\n",
    "        n_features = self.net.fc.in_features\n",
    "        self.net.fc = nn.Identity()\n",
    "        self.head = nn.Linear(n_features, n_classes)\n",
    "        \n",
    "    def forward(self, imgs):\n",
    "        features = self.net(imgs)\n",
    "        output = self.head(features)\n",
    "        return features, output"
   ]
  },
  {
   "cell_type": "code",
   "execution_count": 15,
   "id": "1b4875b1",
   "metadata": {},
   "outputs": [],
   "source": [
    "model = resnet_center_loss(n_classes).to(device)"
   ]
  },
  {
   "cell_type": "code",
   "execution_count": 16,
   "id": "cd894d47",
   "metadata": {},
   "outputs": [],
   "source": [
    "optim = torch.optim.Adam(model.parameters(), lr=0.001)\n",
    "loss_fn = torch.nn.CrossEntropyLoss()"
   ]
  },
  {
   "cell_type": "code",
   "execution_count": 17,
   "id": "e950f1f8",
   "metadata": {},
   "outputs": [],
   "source": [
    "center_loss = CenterLoss()\n",
    "center_loss_optim = torch.optim.SGD(center_loss.parameters(), lr=0.5)"
   ]
  },
  {
   "cell_type": "code",
   "execution_count": 19,
   "id": "d01fd231",
   "metadata": {},
   "outputs": [],
   "source": [
    "def run_centerloss_validation(val_loader: DataLoader, model: nn.Module, n_steps=None):\n",
    "    model.eval()\n",
    "    n_good = 0\n",
    "    n_all = 0\n",
    "    wrapper = lambda x: x\n",
    "    if n_steps is None:\n",
    "        n_steps = len(val_loader)\n",
    "        wrapper = tqdm\n",
    "    \n",
    "    with torch.no_grad():\n",
    "        for batch, (X, y) in enumerate(wrapper(val_loader)):\n",
    "            if batch == n_steps:\n",
    "                break\n",
    "            _, logits = model(X.unsqueeze(1).to(torch.float32).to(device))\n",
    "            classes = torch.argmax(logits, dim=1).cpu().numpy()\n",
    "            n_good += sum(classes == y.cpu().numpy())\n",
    "            n_all += len(classes)\n",
    "    \n",
    "    return n_good / n_all\n",
    "\n",
    "\n",
    "def train_centerloss_epoch(train_loader: DataLoader, val_loader: DataLoader, model: nn.Module, optim, loss_fn,\n",
    "                          center_loss, center_loss_optim, alpha=0.5):\n",
    "    for batch, (X, y) in enumerate(tqdm(train_loader)):\n",
    "        model.train()\n",
    "        features, logits = model(X.unsqueeze(1).to(torch.float32).to(device))\n",
    "        \n",
    "        loss = loss_fn(logits, y.to(torch.long).to(device))+ alpha * center_loss(features, y.to(device))\n",
    "        \n",
    "        optim.zero_grad()\n",
    "        center_loss_optim.zero_grad()\n",
    "        loss.backward()\n",
    "        for param in center_loss.parameters():\n",
    "            param.grad.data *= (1./alpha)\n",
    "        optim.step()\n",
    "        center_loss_optim.step()"
   ]
  },
  {
   "cell_type": "code",
   "execution_count": 20,
   "id": "16a58ac9",
   "metadata": {},
   "outputs": [
    {
     "name": "stdout",
     "output_type": "stream",
     "text": [
      "Epoch 19:\n",
      "accuracy: 0.9523463060552987\n"
     ]
    },
    {
     "data": {
      "image/png": "[encoded data removed]",
      "text/plain": [
       "<Figure size 640x480 with 1 Axes>"
      ]
     },
     "metadata": {},
     "output_type": "display_data"
    }
   ],
   "source": [
    "accuracies = []\n",
    "for epoch in range(20):\n",
    "    print(f'Epoch {epoch}:')\n",
    "    train_centerloss_epoch(train_loader, val_loader, model, optim, loss_fn, center_loss, center_loss_optim)\n",
    "    accuracy = run_centerloss_validation(val_loader, model)\n",
    "    \n",
    "    clear_output()\n",
    "    print(f'Epoch {epoch}:')\n",
    "    print(f'accuracy: {accuracy}')\n",
    "    accuracies.append(accuracy)\n",
    "    plt.plot(accuracies)\n",
    "    plt.show()\n",
    "    torch.save(model.state_dict(), f'resnet_centerloss{epoch}.pth')"
   ]
  },
  {
   "cell_type": "code",
   "execution_count": 28,
   "id": "c2f8055c",
   "metadata": {},
   "outputs": [
    {
     "name": "stdout",
     "output_type": "stream",
     "text": [
      "Epoch 24:\n",
      "accuracy: 0.9522889069187678\n"
     ]
    },
    {
     "data": {
      "image/png": "[encoded data removed]",
      "text/plain": [
       "<Figure size 640x480 with 1 Axes>"
      ]
     },
     "metadata": {},
     "output_type": "display_data"
    }
   ],
   "source": [
    "for epoch in range(20, 25):\n",
    "    print(f'Epoch {epoch}:')\n",
    "    train_centerloss_epoch(train_loader, val_loader, model, optim, loss_fn, center_loss, center_loss_optim)\n",
    "    accuracy = run_centerloss_validation(val_loader, model)\n",
    "    \n",
    "    clear_output()\n",
    "    print(f'Epoch {epoch}:')\n",
    "    print(f'accuracy: {accuracy}')\n",
    "    accuracies.append(accuracy)\n",
    "    plt.plot(accuracies)\n",
    "    plt.show()\n",
    "    torch.save(model.state_dict(), f'resnet_centerloss{epoch}.pth')"
   ]
  },
  {
   "cell_type": "code",
   "execution_count": 73,
   "id": "c4819c38",
   "metadata": {},
   "outputs": [
    {
     "name": "stdout",
     "output_type": "stream",
     "text": [
      "Epoch 19:\n",
      "accuracy: 0.8909959370719305\n"
     ]
    },
    {
     "data": {
      "image/png": "[encoded data removed]",
      "text/plain": [
       "<Figure size 640x480 with 1 Axes>"
      ]
     },
     "metadata": {},
     "output_type": "display_data"
    }
   ],
   "source": [
    "'''\n",
    "archive: same net, 32x32 image\n",
    "'''\n",
    "\n",
    "accuracies = []\n",
    "for epoch in range(20):\n",
    "    print(f'Epoch {epoch}:')\n",
    "    train_centerloss_epoch(train_loader, val_loader, model, optim, loss_fn, center_loss, center_loss_optim)\n",
    "    accuracy = run_centerloss_validation(val_loader, model)\n",
    "    \n",
    "    clear_output()\n",
    "    print(f'Epoch {epoch}:')\n",
    "    print(f'accuracy: {accuracy}')\n",
    "    accuracies.append(accuracy)\n",
    "    plt.plot(accuracies)\n",
    "    plt.show()\n",
    "    torch.save(model.state_dict(), f'resnet_centerloss{epoch}.pth')"
   ]
  },
  {
   "cell_type": "markdown",
   "id": "e3a80de8",
   "metadata": {},
   "source": [
    "### Evaluation"
   ]
  },
  {
   "cell_type": "code",
   "execution_count": 35,
   "id": "1393abc3",
   "metadata": {},
   "outputs": [],
   "source": [
    "torch.save(model.state_dict(), '64x64resnet_centerloss_final.pth')"
   ]
  },
  {
   "cell_type": "code",
   "execution_count": 100,
   "id": "a903fc05",
   "metadata": {},
   "outputs": [
    {
     "data": {
      "text/plain": [
       "<All keys matched successfully>"
      ]
     },
     "execution_count": 100,
     "metadata": {},
     "output_type": "execute_result"
    }
   ],
   "source": [
    "model.load_state_dict(torch.load('resnet_centerloss18.pth'))"
   ]
  },
  {
   "cell_type": "code",
   "execution_count": 29,
   "id": "da399c32",
   "metadata": {},
   "outputs": [],
   "source": [
    "# test_path = r'/home/egiby/data/Temp/HWDB/test.lmdb'\n",
    "pred_path = './pred.txt'\n",
    "\n",
    "test_reader = LMDBReader(test_path)\n",
    "test_reader.open()\n",
    "test_helper = HWDBDatasetHelper(test_reader, prefix='Test')"
   ]
  },
  {
   "cell_type": "code",
   "execution_count": 30,
   "id": "12e0b14e",
   "metadata": {},
   "outputs": [],
   "source": [
    "test_dataset = HWDBDataset(test_helper)\n",
    "test_loader = DataLoader(test_dataset, batch_size=2048, shuffle=False, num_workers=8)"
   ]
  },
  {
   "cell_type": "code",
   "execution_count": 31,
   "id": "26320325",
   "metadata": {},
   "outputs": [
    {
     "name": "stderr",
     "output_type": "stream",
     "text": [
      "100%|████████████████████████████████████████████████████████████████████████████████████████████████████████████████████████████████████████████████████████████████████████████████████████████████████████████████████████████████████████| 380/380 [00:40<00:00,  9.41it/s]\n"
     ]
    }
   ],
   "source": [
    "preds = []\n",
    "model.eval()\n",
    "with torch.no_grad():\n",
    "    for X, _ in tqdm(test_loader):\n",
    "        _, logits = model(X.unsqueeze(1).to(torch.float32).to(device))\n",
    "        classes = torch.argmax(logits, dim=1).cpu().numpy()\n",
    "        preds.extend(classes)"
   ]
  },
  {
   "cell_type": "code",
   "execution_count": 32,
   "id": "ad37235d",
   "metadata": {},
   "outputs": [],
   "source": [
    "with open(pred_path, 'w') as f_pred:\n",
    "    for idx, pred in enumerate(preds):\n",
    "        name = test_helper.namelist[idx]\n",
    "        cls = train_helper.vocabulary.class_by_index(pred)\n",
    "        print(name, cls, file=f_pred)"
   ]
  },
  {
   "cell_type": "code",
   "execution_count": 33,
   "id": "cd48314e",
   "metadata": {},
   "outputs": [],
   "source": [
    "from pathlib import Path\n",
    "\n",
    "def evaluate(gt_path, pred_path):\n",
    "    gt = dict()\n",
    "    with open(gt_path) as gt_f:\n",
    "        for line in gt_f:\n",
    "            name, cls = line.strip().split()\n",
    "            gt[name] = cls\n",
    "    \n",
    "    n_good = 0\n",
    "    n_all = len(gt)\n",
    "    with open(pred_path) as pred_f:\n",
    "        for line in pred_f:\n",
    "            name, cls = line.strip().split()\n",
    "            if cls == gt[name]:\n",
    "                n_good += 1\n",
    "    \n",
    "    return n_good / n_all\n",
    "\n",
    "\n",
    "def _run_evaluation():\n",
    "    base = Path().absolute().parent.parent\n",
    "    pred_path = './pred.txt'\n",
    "    score = evaluate(gt_path, pred_path)\n",
    "    print('Accuracy = {:1.4f}'.format(score))"
   ]
  },
  {
   "cell_type": "code",
   "execution_count": 34,
   "id": "1667d70c",
   "metadata": {},
   "outputs": [
    {
     "name": "stdout",
     "output_type": "stream",
     "text": [
      "Accuracy = 0.9312\n"
     ]
    }
   ],
   "source": [
    "_run_evaluation()"
   ]
  },
  {
   "cell_type": "code",
   "execution_count": null,
   "id": "4040c542",
   "metadata": {},
   "outputs": [],
   "source": []
  }
 ],
 "metadata": {
  "kernelspec": {
   "display_name": "Python 3 (ipykernel)",
   "language": "python",
   "name": "python3"
  },
  "language_info": {
   "codemirror_mode": {
    "name": "ipython",
    "version": 3
   },
   "file_extension": ".py",
   "mimetype": "text/x-python",
   "name": "python",
   "nbconvert_exporter": "python",
   "pygments_lexer": "ipython3",
   "version": "3.8.10"
  }
 },
 "nbformat": 4,
 "nbformat_minor": 5
}
